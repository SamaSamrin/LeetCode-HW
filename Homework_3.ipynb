{
  "nbformat": 4,
  "nbformat_minor": 0,
  "metadata": {
    "colab": {
      "name": "Homework 3.ipynb",
      "provenance": [],
      "authorship_tag": "ABX9TyN4V6h9BiaOFGoQaQZyVvZr",
      "include_colab_link": true
    },
    "kernelspec": {
      "name": "python3",
      "display_name": "Python 3"
    },
    "language_info": {
      "name": "python"
    }
  },
  "cells": [
    {
      "cell_type": "markdown",
      "metadata": {
        "id": "view-in-github",
        "colab_type": "text"
      },
      "source": [
        "<a href=\"https://colab.research.google.com/github/SamaSamrin/LeetCode-HW/blob/main/Homework_3.ipynb\" target=\"_parent\"><img src=\"https://colab.research.google.com/assets/colab-badge.svg\" alt=\"Open In Colab\"/></a>"
      ]
    },
    {
      "cell_type": "markdown",
      "source": [
        "**231. Power of Two**\n",
        "\n",
        "*Given an integer n, return true if it is a power of two. Otherwise, return false.*\n",
        "\n",
        "*An integer n is a power of two, if there exists an integer x such that n == 2x.*\n",
        "\n",
        "Example 1:\n",
        "Input: n = 1\n",
        "Output: true\n",
        "Explanation: 20 = 1\n",
        "\n",
        "Example 2:\n",
        "Input: n = 16\n",
        "Output: true\n",
        "Explanation: 24 = 16\n",
        "\n",
        "Example 3:\n",
        "Input: n = 3\n",
        "Output: false\n",
        " \n",
        "\n",
        "Constraints:\n",
        "-231 <= n <= 231 - 1"
      ],
      "metadata": {
        "id": "oD26CM5QU_bK"
      }
    },
    {
      "cell_type": "code",
      "source": [
        "def isPowerOfTwo(n):\n",
        "        \"\"\"\n",
        "        :type n: int\n",
        "        :rtype: bool\n",
        "        \"\"\"\n",
        "        return n and not (n & n - 1)\n",
        "\n",
        "isPowerOfTwo(-2147483648)"
      ],
      "metadata": {
        "colab": {
          "base_uri": "https://localhost:8080/"
        },
        "id": "7Q6LX14aVNA8",
        "outputId": "9dc19dbe-34c4-480b-e6fb-39b97f28be3d"
      },
      "execution_count": null,
      "outputs": [
        {
          "output_type": "execute_result",
          "data": {
            "text/plain": [
              "False"
            ]
          },
          "metadata": {},
          "execution_count": 5
        }
      ]
    },
    {
      "cell_type": "markdown",
      "source": [
        "**My Explanation for \"what if the input integer is negative\":**\n",
        "\n",
        "If the input integer is negative, the LeetCode terminal decides the correct result to be **False**. That's probably because, using an even number like 2 as the power (or exponent) should automatically make a number positive (>0)"
      ],
      "metadata": {
        "id": "VrIVQZffWXFy"
      }
    },
    {
      "cell_type": "markdown",
      "source": [
        "**217. Contains Duplicate**\n",
        "\n",
        "*Given an integer array nums, return true if any value appears at least twice in the array, and return false if every element is distinct.*\n",
        "\n",
        "\n",
        "Example 1:\n",
        "Input: nums = [1,2,3,1]\n",
        "Output: true\n",
        "\n",
        "Example 2:\n",
        "Input: nums = [1,2,3,4]\n",
        "Output: false\n",
        "\n",
        "Example 3:\n",
        "Input: nums = [1,1,1,3,3,4,3,2,4,2]\n",
        "Output: true\n",
        " \n",
        "\n",
        "Constraints:\n",
        "1 <= nums.length <= 105\n",
        "-109 <= nums[i] <= 109"
      ],
      "metadata": {
        "id": "YKZq8uMcZRLn"
      }
    },
    {
      "cell_type": "code",
      "source": [
        "def containsDuplicate(self, nums):\n",
        "        for i in nums:\n",
        "            if nums.count(i)>1:\n",
        "                return True\n",
        "        return False"
      ],
      "metadata": {
        "id": "aJEOs_roZZ3U"
      },
      "execution_count": null,
      "outputs": []
    },
    {
      "cell_type": "markdown",
      "source": [
        "**Note**\n",
        "\n",
        "After using for loop, the code works for smaller lists but shows **Time Limit Exceeded** error for longer lists [around 10^5 number of elements]. So this code could not be submitted on LeetCode."
      ],
      "metadata": {
        "id": "5aQkTB-taXDe"
      }
    },
    {
      "cell_type": "markdown",
      "source": [
        "**1. Two Sum**\n",
        "\n",
        "*Given an array of integers nums and an integer target, return indices of the two numbers such that they add up to target.*\n",
        "\n",
        "*You may assume that each input would have exactly one solution, and you may not use the same element twice.*\n",
        "\n",
        "*You can return the answer in any order.*\n",
        "\n",
        "\n",
        "Example 1:\n",
        "Input: nums = [2,7,11,15], target = 9\n",
        "Output: [0,1]\n",
        "Explanation: Because nums[0] + nums[1] == 9, we return [0, 1].\n",
        "\n",
        "Example 2:\n",
        "Input: nums = [3,2,4], target = 6\n",
        "Output: [1,2]\n",
        "\n",
        "Example 3:\n",
        "Input: nums = [3,3], target = 6\n",
        "Output: [0,1]\n",
        " \n",
        "\n",
        "Constraints:\n",
        "2 <= nums.length <= 104\n",
        "-109 <= nums[i] <= 109\n",
        "-109 <= target <= 109\n",
        "Only one valid answer exists."
      ],
      "metadata": {
        "id": "NtT5H7pPb2x2"
      }
    },
    {
      "cell_type": "code",
      "source": [
        "def twoSum(self, nums, target):\n",
        "        result = []\n",
        "        iterator_for_i = 0\n",
        "        iterator_for_j = 0\n",
        "        for i in nums:\n",
        "            #print(\"i=\",  iterator_for_i)\n",
        "            iterator_for_i+=1\n",
        "            iterator_for_j=0\n",
        "            for j in nums:\n",
        "                #print(\"j=\",  iterator_for_j)\n",
        "                iterator_for_j+=1\n",
        "                if j+i==target and iterator_for_i!=iterator_for_j:\n",
        "                    #print(\"inside if\")\n",
        "                    result.append(iterator_for_i-1)\n",
        "                    #print(result)\n",
        "        result = list(dict.fromkeys(result))\n",
        "        return result"
      ],
      "metadata": {
        "id": "zJAHKSJ4cBqG"
      },
      "execution_count": null,
      "outputs": []
    }
  ]
}