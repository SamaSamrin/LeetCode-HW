{
  "nbformat": 4,
  "nbformat_minor": 0,
  "metadata": {
    "colab": {
      "name": "Python_Fundamentals_LeetCode_Homeworks.ipynb",
      "provenance": [],
      "collapsed_sections": [],
      "authorship_tag": "ABX9TyOaw6uCt/Br7FOLAqmkag5e",
      "include_colab_link": true
    },
    "kernelspec": {
      "name": "python3",
      "display_name": "Python 3"
    },
    "language_info": {
      "name": "python"
    }
  },
  "cells": [
    {
      "cell_type": "markdown",
      "metadata": {
        "id": "view-in-github",
        "colab_type": "text"
      },
      "source": [
        "<a href=\"https://colab.research.google.com/github/SamaSamrin/LeetCode-HW/blob/main/Python_Fundamentals_LeetCode_Homeworks.ipynb\" target=\"_parent\"><img src=\"https://colab.research.google.com/assets/colab-badge.svg\" alt=\"Open In Colab\"/></a>"
      ]
    },
    {
      "cell_type": "markdown",
      "source": [
        "**628. Maximum Product of Three Numbers**\n",
        "\n",
        "*Given an integer array nums, find three numbers whose product is maximum and return the maximum product.*\n",
        "\n",
        "Example 1:\n",
        "\n",
        "Input: nums = [1,2,3]\n",
        "Output: 6\n",
        "Example 2:\n",
        "\n",
        "Input: nums = [1,2,3,4]\n",
        "Output: 24\n",
        "Example 3:\n",
        "\n",
        "Input: nums = [-1,-2,-3]\n",
        "Output: -6"
      ],
      "metadata": {
        "id": "2BGVEJKcGiIX"
      }
    },
    {
      "cell_type": "code",
      "source": [
        "def maximumProduct(self, nums):\n",
        "        product = 1;\n",
        "        if len(nums)<=3:\n",
        "            for i in nums:\n",
        "                product = product * i\n",
        "            return product\n",
        "        else:\n",
        "            nums.sort()\n",
        "            product = nums[-1] * nums[-2] * nums[-3]\n",
        "            return product"
      ],
      "metadata": {
        "id": "Bg2JxA3gGndO"
      },
      "execution_count": null,
      "outputs": []
    },
    {
      "cell_type": "markdown",
      "source": [
        "**1672. Richest Customer Wealth**\n",
        "\n",
        "*You are given an m x n integer grid accounts where accounts[i][j] is the amount of money the i​​​​​​​​​​​th​​​​ customer has in the j​​​​​​​​​​​th​​​​ bank. Return the wealth that the richest customer has.*\n",
        "\n",
        "*A customer's wealth is the amount of money they have in all their bank accounts. The richest customer is the customer that has the maximum wealth.*\n",
        "\n",
        "Example 1:\n",
        "Input: accounts = [[1,2,3],[3,2,1]]\n",
        "Output: 6\n",
        "Explanation:\n",
        "1st customer has wealth = 1 + 2 + 3 = 6\n",
        "2nd customer has wealth = 3 + 2 + 1 = 6\n",
        "Both customers are considered the richest with a wealth of 6 each, so return 6.\n",
        "\n",
        "Example 2:\n",
        "Input: accounts = [[1,5],[7,3],[3,5]]\n",
        "Output: 10\n",
        "Explanation: \n",
        "1st customer has wealth = 6\n",
        "2nd customer has wealth = 10 \n",
        "3rd customer has wealth = 8\n",
        "The 2nd customer is the richest with a wealth of 10.\n",
        "\n",
        "Example 3:\n",
        "Input: accounts = [[2,8,7],[7,1,3],[1,9,5]]\n",
        "Output: 17"
      ],
      "metadata": {
        "id": "Kv0yGcNDH_z1"
      }
    },
    {
      "cell_type": "code",
      "source": [
        "def maximumWealth(accounts):\n",
        "        total_wealth = [None]*len(accounts) \n",
        "        i=0\n",
        "        \n",
        "        while i<len(accounts):\n",
        "            i_wealth = 0\n",
        "            for j in accounts[i]:\n",
        "                i_wealth = i_wealth + j   \n",
        "            total_wealth[i] = i_wealth\n",
        "            i+=1\n",
        "            \n",
        "        max_wealth = max(total_wealth)\n",
        "        \n",
        "        return max_wealth"
      ],
      "metadata": {
        "id": "ArcduaD2HSTi"
      },
      "execution_count": null,
      "outputs": []
    },
    {
      "cell_type": "markdown",
      "source": [
        "**1470. Shuffle the Array**\n",
        "\n",
        "*Given the array nums consisting of 2n elements in the form [x1,x2,...,xn,y1,y2,...,yn].*\n",
        "\n",
        "*Return the array in the form [x1,y1,x2,y2,...,xn,yn].*\n",
        "\n",
        "Example 1:\n",
        "Input: nums = [2,5,1,3,4,7], n = 3\n",
        "Output: [2,3,5,4,1,7] \n",
        "Explanation: Since x1=2, x2=5, x3=1, y1=3, y2=4, y3=7 then the answer is [2,3,5,4,1,7].\n",
        "\n",
        "Example 2:\n",
        "Input: nums = [1,2,3,4,4,3,2,1], n = 4\n",
        "Output: [1,4,2,3,3,2,4,1]\n",
        "\n",
        "Example 3:\n",
        "Input: nums = [1,1,2,2], n = 2\n",
        "Output: [1,2,1,2]"
      ],
      "metadata": {
        "id": "Snx6ZIgmIbU8"
      }
    },
    {
      "cell_type": "code",
      "source": [
        "def shuffle(self, nums, n):\n",
        "        solution = [None]*(2*n)\n",
        "        \n",
        "        index = 0\n",
        "        for i in nums[0:n]:\n",
        "            solution[index] = i\n",
        "            index+=2\n",
        "        \n",
        "        index = 1\n",
        "        for i in nums[n:]:\n",
        "            solution[index] = i\n",
        "            index+=2\n",
        "            \n",
        "        return solution"
      ],
      "metadata": {
        "id": "m4V66UmIHG6E"
      },
      "execution_count": null,
      "outputs": []
    },
    {
      "cell_type": "markdown",
      "source": [
        "**367. Valid Perfect Square**\n",
        "\n",
        "Given a positive integer num, write a function which returns True if num is a perfect square else False.\n",
        "\n",
        "Follow up: Do not use any built-in library function such as sqrt.\n",
        "\n",
        "Example 1:\n",
        "Input: num = 16\n",
        "Output: true\n",
        "\n",
        "Example 2:\n",
        "Input: num = 14\n",
        "Output: false"
      ],
      "metadata": {
        "id": "BlYBIHLlI-BF"
      }
    },
    {
      "cell_type": "code",
      "source": [
        "import math\n",
        "\n",
        "def isPerfectSquare(self, num):\n",
        "    if (math.sqrt(num)).is_integer():\n",
        "        return True\n",
        "    else:\n",
        "        return False\n"
      ],
      "metadata": {
        "id": "yz6uVXUYJKDD"
      },
      "execution_count": null,
      "outputs": []
    }
  ]
}